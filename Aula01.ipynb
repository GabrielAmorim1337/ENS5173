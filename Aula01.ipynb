{
 "cells": [
  {
   "cell_type": "markdown",
   "id": "c8e91544-23a0-4121-a0c4-8f785cfb8a28",
   "metadata": {},
   "source": [
    "# Aula - 03/04/2024- Comandos Básicos no Python"
   ]
  },
  {
   "cell_type": "markdown",
   "id": "a6d914b2-28d8-475b-8d9a-34441b1ea7c1",
   "metadata": {},
   "source": [
    "Nesta aula aprenderemos a importar pacotes e os tipos de variáveis"
   ]
  },
  {
   "cell_type": "markdown",
   "id": "73170f9e-c4d7-4963-bfb3-52d8caa7e7dd",
   "metadata": {},
   "source": [
    "Desenvolvedor : Gabriel F. de Amorim"
   ]
  },
  {
   "cell_type": "markdown",
   "id": "1883a12e-c1a7-43ac-9d62-2bffdd24843b",
   "metadata": {},
   "source": [
    "***"
   ]
  },
  {
   "cell_type": "markdown",
   "id": "252ee982-269c-4d20-af95-1a2ac8de84ac",
   "metadata": {},
   "source": [
    "## Tipos de variáveis"
   ]
  },
  {
   "cell_type": "code",
   "execution_count": 9,
   "id": "42827dfc-8390-4189-9ada-0ed1b76c0202",
   "metadata": {},
   "outputs": [],
   "source": [
    "# Criando variáveis inteiras\n",
    "a = 1.0\n"
   ]
  },
  {
   "cell_type": "code",
   "execution_count": 11,
   "id": "e876075d-3309-490a-b743-9697a5a7cd6a",
   "metadata": {},
   "outputs": [
    {
     "name": "stdout",
     "output_type": "stream",
     "text": [
      "a=1.0\n",
      "<class 'float'>\n"
     ]
    }
   ],
   "source": [
    "print('a='+str(a))\n",
    "print(type(a))"
   ]
  },
  {
   "cell_type": "code",
   "execution_count": 14,
   "id": "e7fe1bf2-80f8-42f9-b80a-5149fe37cc81",
   "metadata": {},
   "outputs": [
    {
     "name": "stdout",
     "output_type": "stream",
     "text": [
      "Uma Vez Flamengo\n",
      "<class 'str'>\n"
     ]
    }
   ],
   "source": [
    "# Criando variáveis string\n",
    "b = 'Uma Vez '\n",
    "c = 'Flamengo'\n",
    "print(b+c)\n",
    "print(type(b))"
   ]
  },
  {
   "cell_type": "code",
   "execution_count": 15,
   "id": "7af8a7ce-efe4-434e-a0a1-c3721b3d3861",
   "metadata": {},
   "outputs": [
    {
     "name": "stdout",
     "output_type": "stream",
     "text": [
      "666.6\n",
      "<class 'float'>\n"
     ]
    }
   ],
   "source": [
    "#Criando variáveis float/double precision\n",
    "d = 666.6\n",
    "print(d)\n",
    "print(type(d))"
   ]
  }
 ],
 "metadata": {
  "kernelspec": {
   "display_name": "Python 3 (ipykernel)",
   "language": "python",
   "name": "python3"
  },
  "language_info": {
   "codemirror_mode": {
    "name": "ipython",
    "version": 3
   },
   "file_extension": ".py",
   "mimetype": "text/x-python",
   "name": "python",
   "nbconvert_exporter": "python",
   "pygments_lexer": "ipython3",
   "version": "3.10.5"
  }
 },
 "nbformat": 4,
 "nbformat_minor": 5
}
