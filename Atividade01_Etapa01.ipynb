{
 "cells": [
  {
   "cell_type": "markdown",
   "id": "a74bbd24-a21d-4e57-ab67-efd3ba99a0e9",
   "metadata": {},
   "source": [
    "# Aula 02 - Python"
   ]
  },
  {
   "cell_type": "markdown",
   "id": "86a4bcfd-6b6c-4e92-9a88-08a34aa1ce94",
   "metadata": {},
   "source": [
    "#### Dados Númericos"
   ]
  },
  {
   "cell_type": "code",
   "execution_count": 1,
   "id": "96bb74cf-eed8-421a-a5bc-78f91f47aab3",
   "metadata": {},
   "outputs": [
    {
     "name": "stdout",
     "output_type": "stream",
     "text": [
      "Valor de a = 1\n"
     ]
    },
    {
     "data": {
      "text/plain": [
       "int"
      ]
     },
     "execution_count": 1,
     "metadata": {},
     "output_type": "execute_result"
    }
   ],
   "source": [
    "# Variável Inteira\n",
    "a = 1\n",
    "print('Valor de a = '+str(a))\n",
    "type(a)"
   ]
  },
  {
   "cell_type": "code",
   "execution_count": 2,
   "id": "28d3f086-17f3-43e3-a64d-30e3c8aab7dc",
   "metadata": {},
   "outputs": [
    {
     "name": "stdout",
     "output_type": "stream",
     "text": [
      "1.0\n"
     ]
    },
    {
     "data": {
      "text/plain": [
       "float"
      ]
     },
     "execution_count": 2,
     "metadata": {},
     "output_type": "execute_result"
    }
   ],
   "source": [
    "# Variável dupla precisão\n",
    "b = 1.0\n",
    "print(b)\n",
    "type(b)"
   ]
  },
  {
   "cell_type": "code",
   "execution_count": 3,
   "id": "10efc42c-ea2b-4360-abbb-d4f7a198bf60",
   "metadata": {},
   "outputs": [
    {
     "name": "stdout",
     "output_type": "stream",
     "text": [
      "1\n"
     ]
    },
    {
     "data": {
      "text/plain": [
       "int"
      ]
     },
     "execution_count": 3,
     "metadata": {},
     "output_type": "execute_result"
    }
   ],
   "source": [
    "# Converter float para int\n",
    "c = int(b)\n",
    "print(c)\n",
    "type(c)"
   ]
  },
  {
   "cell_type": "code",
   "execution_count": 4,
   "id": "4a51ec3c-fd46-4c22-91e3-cfdbeba40828",
   "metadata": {},
   "outputs": [
    {
     "name": "stdout",
     "output_type": "stream",
     "text": [
      "nan\n"
     ]
    },
    {
     "data": {
      "text/plain": [
       "float"
      ]
     },
     "execution_count": 4,
     "metadata": {},
     "output_type": "execute_result"
    }
   ],
   "source": [
    "# Declarando NaN\n",
    "import numpy as np\n",
    "d = np.nan\n",
    "print(d)\n",
    "type(d)"
   ]
  },
  {
   "cell_type": "code",
   "execution_count": 5,
   "id": "cf14522c-9abb-43f8-92a7-046af3f59a73",
   "metadata": {},
   "outputs": [
    {
     "name": "stdout",
     "output_type": "stream",
     "text": [
      "nan\n",
      "nan\n",
      "1.0\n"
     ]
    }
   ],
   "source": [
    "# Operação com NaN\n",
    "e = d*1\n",
    "print(e)\n",
    "e = d+1\n",
    "print(e)\n",
    "e = np.nansum([d,1])\n",
    "print(e)"
   ]
  },
  {
   "cell_type": "markdown",
   "id": "5a53b16a-1d4c-4980-9d57-65a654bccf4f",
   "metadata": {},
   "source": [
    "#### Dados de Texto"
   ]
  },
  {
   "cell_type": "code",
   "execution_count": 6,
   "id": "83d50126-a614-4766-8d5e-3938533ca136",
   "metadata": {},
   "outputs": [
    {
     "name": "stdout",
     "output_type": "stream",
     "text": [
      "Fábio\n",
      "Gabriel\n",
      "FábioGabriel\n",
      "Fábio Gabriel\n"
     ]
    }
   ],
   "source": [
    "# Declaração de variável texto\n",
    "f = 'Fábio'\n",
    "g = 'Gabriel'\n",
    "print(f)\n",
    "print(g)\n",
    "print(f+g)\n",
    "print(f+' '+g)"
   ]
  },
  {
   "cell_type": "markdown",
   "id": "73229e41-92d8-47c2-a294-0578265d6034",
   "metadata": {},
   "source": [
    "#### Dados do tipo bool - lógica"
   ]
  },
  {
   "cell_type": "code",
   "execution_count": 7,
   "id": "7fb2107b-6403-45c9-a74b-a1a51e965f34",
   "metadata": {},
   "outputs": [
    {
     "data": {
      "text/plain": [
       "True"
      ]
     },
     "execution_count": 7,
     "metadata": {},
     "output_type": "execute_result"
    }
   ],
   "source": [
    "a == 1"
   ]
  },
  {
   "cell_type": "code",
   "execution_count": 8,
   "id": "aad2472e-a030-4090-9182-2ab611e7d3d4",
   "metadata": {},
   "outputs": [
    {
     "name": "stdout",
     "output_type": "stream",
     "text": [
      "True\n"
     ]
    },
    {
     "data": {
      "text/plain": [
       "bool"
      ]
     },
     "execution_count": 8,
     "metadata": {},
     "output_type": "execute_result"
    }
   ],
   "source": [
    "h = (a==1)\n",
    "print(h)\n",
    "type(h)"
   ]
  },
  {
   "cell_type": "code",
   "execution_count": 9,
   "id": "46c2386a-b4f3-476e-82b6-46eb93b9e3cf",
   "metadata": {},
   "outputs": [
    {
     "name": "stdout",
     "output_type": "stream",
     "text": [
      "False\n"
     ]
    },
    {
     "data": {
      "text/plain": [
       "bool"
      ]
     },
     "execution_count": 9,
     "metadata": {},
     "output_type": "execute_result"
    }
   ],
   "source": [
    "h = (a==2)\n",
    "print(h)\n",
    "type(h)"
   ]
  },
  {
   "cell_type": "code",
   "execution_count": 10,
   "id": "1f131288-9b2d-41e8-9dd6-f5d64e306c07",
   "metadata": {},
   "outputs": [
    {
     "data": {
      "text/plain": [
       "bool"
      ]
     },
     "execution_count": 10,
     "metadata": {},
     "output_type": "execute_result"
    }
   ],
   "source": [
    "i = True\n",
    "type(i)"
   ]
  },
  {
   "cell_type": "code",
   "execution_count": 12,
   "id": "b48b1adf-80b3-45c2-a00d-b59467e5fbd0",
   "metadata": {},
   "outputs": [
    {
     "data": {
      "text/plain": [
       "str"
      ]
     },
     "execution_count": 12,
     "metadata": {},
     "output_type": "execute_result"
    }
   ],
   "source": [
    "ii = 'True'\n",
    "type(ii)"
   ]
  },
  {
   "cell_type": "markdown",
   "id": "b85e3015-7e54-43b2-8cb7-bd8afaa50be4",
   "metadata": {},
   "source": [
    "#### Operações de comparação"
   ]
  },
  {
   "cell_type": "code",
   "execution_count": 13,
   "id": "f39dae9b-3af8-4dcf-9ac2-acca1cd7c178",
   "metadata": {},
   "outputs": [
    {
     "data": {
      "text/plain": [
       "True"
      ]
     },
     "execution_count": 13,
     "metadata": {},
     "output_type": "execute_result"
    }
   ],
   "source": [
    "# Operação ==\n",
    "a==b"
   ]
  },
  {
   "cell_type": "code",
   "execution_count": 14,
   "id": "7ef818d3-3950-4bf5-a10b-eaebc2f5195a",
   "metadata": {},
   "outputs": [
    {
     "data": {
      "text/plain": [
       "False"
      ]
     },
     "execution_count": 14,
     "metadata": {},
     "output_type": "execute_result"
    }
   ],
   "source": [
    "# Operação ><\n",
    "a>b"
   ]
  },
  {
   "cell_type": "code",
   "execution_count": 15,
   "id": "11cfe022-59b7-4c2b-af94-e05936869213",
   "metadata": {},
   "outputs": [
    {
     "data": {
      "text/plain": [
       "False"
      ]
     },
     "execution_count": 15,
     "metadata": {},
     "output_type": "execute_result"
    }
   ],
   "source": [
    "# Operação !=\n",
    "a!=b"
   ]
  },
  {
   "cell_type": "code",
   "execution_count": 16,
   "id": "8aec3229-34fe-43f9-981e-b69e9bc83cb0",
   "metadata": {},
   "outputs": [
    {
     "data": {
      "text/plain": [
       "True"
      ]
     },
     "execution_count": 16,
     "metadata": {},
     "output_type": "execute_result"
    }
   ],
   "source": [
    "# Operação >= ou <=\n",
    "a>=b"
   ]
  },
  {
   "cell_type": "markdown",
   "id": "bd8c0acc-6196-47ff-b691-ef7d4ac0a4a0",
   "metadata": {},
   "source": [
    "#### Operações Matemáticas"
   ]
  },
  {
   "cell_type": "code",
   "execution_count": 17,
   "id": "42976f45-cc14-4fc6-8124-08231adc04e4",
   "metadata": {},
   "outputs": [
    {
     "data": {
      "text/plain": [
       "2.0"
      ]
     },
     "execution_count": 17,
     "metadata": {},
     "output_type": "execute_result"
    }
   ],
   "source": [
    "# Soma\n",
    "a+b"
   ]
  },
  {
   "cell_type": "code",
   "execution_count": 18,
   "id": "d6e7a659-abb6-49ae-a959-5947c9c26732",
   "metadata": {},
   "outputs": [
    {
     "name": "stdout",
     "output_type": "stream",
     "text": [
      "2.0\n"
     ]
    }
   ],
   "source": [
    "# Soma e atribui valor\n",
    "ab = a+b\n",
    "print(ab)"
   ]
  },
  {
   "cell_type": "code",
   "execution_count": 20,
   "id": "5105ab9b-48e5-4ae5-b803-ad2e55448eb7",
   "metadata": {},
   "outputs": [
    {
     "name": "stdout",
     "output_type": "stream",
     "text": [
      "Nã use l como nome de variável\n",
      "1.0\n"
     ]
    }
   ],
   "source": [
    "#Multiplicação\n",
    "l = a*b # Não use l como variável\n",
    "print('Nã use l como nome de variável')\n",
    "j = a*b\n",
    "print(j)"
   ]
  },
  {
   "cell_type": "code",
   "execution_count": 21,
   "id": "b56ce845-f26e-4db2-b56f-f339860a2693",
   "metadata": {},
   "outputs": [
    {
     "data": {
      "text/plain": [
       "1.0"
      ]
     },
     "execution_count": 21,
     "metadata": {},
     "output_type": "execute_result"
    }
   ],
   "source": [
    "#Divisão\n",
    "a/b"
   ]
  },
  {
   "cell_type": "code",
   "execution_count": 22,
   "id": "63bdeeb5-1f84-41da-b119-5b24083dea53",
   "metadata": {},
   "outputs": [
    {
     "data": {
      "text/plain": [
       "25"
      ]
     },
     "execution_count": 22,
     "metadata": {},
     "output_type": "execute_result"
    }
   ],
   "source": [
    "#Potência\n",
    "5**2"
   ]
  },
  {
   "cell_type": "code",
   "execution_count": 23,
   "id": "dc55efcf-f139-4478-9f99-ea6b1663a3fd",
   "metadata": {},
   "outputs": [
    {
     "data": {
      "text/plain": [
       "22026.465794806718"
      ]
     },
     "execution_count": 23,
     "metadata": {},
     "output_type": "execute_result"
    }
   ],
   "source": [
    "#Operações matemáticas com a biblioteca math\n",
    "import math\n",
    "math.exp(10)"
   ]
  },
  {
   "cell_type": "code",
   "execution_count": 24,
   "id": "a10c5678-26a3-4619-a47f-cd0123d463f8",
   "metadata": {},
   "outputs": [
    {
     "data": {
      "text/plain": [
       "1.0"
      ]
     },
     "execution_count": 24,
     "metadata": {},
     "output_type": "execute_result"
    }
   ],
   "source": [
    "math.exp(0)"
   ]
  },
  {
   "cell_type": "code",
   "execution_count": 25,
   "id": "8d67406d-e583-4b08-9cff-71580cd7998a",
   "metadata": {},
   "outputs": [
    {
     "data": {
      "text/plain": [
       "2.718281828459045"
      ]
     },
     "execution_count": 25,
     "metadata": {},
     "output_type": "execute_result"
    }
   ],
   "source": [
    "math.exp(a)"
   ]
  },
  {
   "cell_type": "code",
   "execution_count": 26,
   "id": "7b627505-0ec7-4eeb-8a99-7462fd1fb5a5",
   "metadata": {},
   "outputs": [
    {
     "data": {
      "text/plain": [
       "4.5399929762484854e-05"
      ]
     },
     "execution_count": 26,
     "metadata": {},
     "output_type": "execute_result"
    }
   ],
   "source": [
    "math.exp(-10)"
   ]
  },
  {
   "cell_type": "code",
   "execution_count": 27,
   "id": "55ded822-8e18-4bd9-8cc8-25f26476f943",
   "metadata": {},
   "outputs": [
    {
     "data": {
      "text/plain": [
       "0.0"
      ]
     },
     "execution_count": 27,
     "metadata": {},
     "output_type": "execute_result"
    }
   ],
   "source": [
    "import math as mt\n",
    "mt.log(c)"
   ]
  },
  {
   "cell_type": "code",
   "execution_count": 28,
   "id": "839114b2-ed21-4793-be38-84be35e4a8a4",
   "metadata": {},
   "outputs": [
    {
     "data": {
      "text/plain": [
       "2.0"
      ]
     },
     "execution_count": 28,
     "metadata": {},
     "output_type": "execute_result"
    }
   ],
   "source": [
    "mt.log10(100)"
   ]
  },
  {
   "cell_type": "markdown",
   "id": "65d94a76-f9b1-4bd9-b534-42ee0e5ced41",
   "metadata": {},
   "source": [
    "#### Listas"
   ]
  },
  {
   "cell_type": "code",
   "execution_count": 29,
   "id": "eb76e3ff-d152-40de-a892-87d6a1c2516c",
   "metadata": {},
   "outputs": [
    {
     "name": "stdout",
     "output_type": "stream",
     "text": [
      "[1, 2, 3]\n"
     ]
    }
   ],
   "source": [
    "myfirstlist = [1,2,3]\n",
    "print(myfirstlist)"
   ]
  },
  {
   "cell_type": "code",
   "execution_count": 32,
   "id": "6fb6ca3e-4b57-4164-97ae-72ec09bc4747",
   "metadata": {},
   "outputs": [
    {
     "name": "stdout",
     "output_type": "stream",
     "text": [
      "1\n",
      "3\n"
     ]
    }
   ],
   "source": [
    "#Acessando os valores da lita pelo index\n",
    "print(myfirstlist[0])\n",
    "print(myfirstlist[2])"
   ]
  },
  {
   "cell_type": "code",
   "execution_count": 33,
   "id": "ed13ccd3-0735-4312-9115-829f9a2c8df7",
   "metadata": {},
   "outputs": [
    {
     "data": {
      "text/plain": [
       "False"
      ]
     },
     "execution_count": 33,
     "metadata": {},
     "output_type": "execute_result"
    }
   ],
   "source": [
    "myfirstlist==a"
   ]
  },
  {
   "cell_type": "code",
   "execution_count": 35,
   "id": "3a503bc7-1344-41af-84bd-f5d6107826e1",
   "metadata": {},
   "outputs": [
    {
     "data": {
      "text/plain": [
       "True"
      ]
     },
     "execution_count": 35,
     "metadata": {},
     "output_type": "execute_result"
    }
   ],
   "source": [
    "myfirstlist[0]==a"
   ]
  },
  {
   "cell_type": "code",
   "execution_count": 37,
   "id": "c4907f63-fa23-4f65-808d-bed0db325a57",
   "metadata": {},
   "outputs": [
    {
     "name": "stdout",
     "output_type": "stream",
     "text": [
      "[1, 1, 'c']\n"
     ]
    }
   ],
   "source": [
    "myseclist = [1,a,'c']\n",
    "print(myseclist)"
   ]
  },
  {
   "cell_type": "code",
   "execution_count": 38,
   "id": "0b02e980-43bd-4541-9114-f5a4cf668772",
   "metadata": {},
   "outputs": [
    {
     "data": {
      "text/plain": [
       "list"
      ]
     },
     "execution_count": 38,
     "metadata": {},
     "output_type": "execute_result"
    }
   ],
   "source": [
    "type(myseclist)"
   ]
  },
  {
   "cell_type": "code",
   "execution_count": 39,
   "id": "d6d84235-6443-45a2-8a4c-fcb3ed63d34a",
   "metadata": {},
   "outputs": [
    {
     "data": {
      "text/plain": [
       "str"
      ]
     },
     "execution_count": 39,
     "metadata": {},
     "output_type": "execute_result"
    }
   ],
   "source": [
    "type(myseclist[2])"
   ]
  },
  {
   "cell_type": "code",
   "execution_count": 40,
   "id": "b2a6c2cc-bb07-4460-804a-d6601a7ebf75",
   "metadata": {},
   "outputs": [
    {
     "data": {
      "text/plain": [
       "int"
      ]
     },
     "execution_count": 40,
     "metadata": {},
     "output_type": "execute_result"
    }
   ],
   "source": [
    "type(myseclist[1])"
   ]
  },
  {
   "cell_type": "markdown",
   "id": "b072a77d-554a-4cb4-9899-de95dad5f42c",
   "metadata": {},
   "source": [
    "#### Caminhos = path"
   ]
  },
  {
   "cell_type": "code",
   "execution_count": 42,
   "id": "558cf6d2-8029-4abb-8ee7-7598c13a4d2f",
   "metadata": {},
   "outputs": [
    {
     "name": "stdout",
     "output_type": "stream",
     "text": [
      "C:\\Users\\HP\\Documents\\Gabriel.py\\ENS5173\n"
     ]
    }
   ],
   "source": [
    "path = r\"C:\\Users\\HP\\Documents\\Gabriel.py\\ENS5173\"\n",
    "print(path)"
   ]
  },
  {
   "cell_type": "code",
   "execution_count": 43,
   "id": "fda64c8e-a3c7-438e-8bd8-e607fcef21c8",
   "metadata": {},
   "outputs": [
    {
     "data": {
      "text/plain": [
       "['.git',\n",
       " '.gitignore',\n",
       " '.ipynb_checkpoints',\n",
       " 'Aula01.ipynb',\n",
       " 'inputs',\n",
       " 'README.md',\n",
       " 'scripts',\n",
       " 'venv']"
      ]
     },
     "execution_count": 43,
     "metadata": {},
     "output_type": "execute_result"
    }
   ],
   "source": [
    "import os\n",
    "# listar arquivos na pasta\n",
    "os.listdir(path)"
   ]
  },
  {
   "cell_type": "code",
   "execution_count": 44,
   "id": "3224cd30-e048-4ca7-b2e0-5a6e37fd7a5d",
   "metadata": {},
   "outputs": [
    {
     "data": {
      "text/plain": [
       "'.git'"
      ]
     },
     "execution_count": 44,
     "metadata": {},
     "output_type": "execute_result"
    }
   ],
   "source": [
    "# selecionar primeiro arquivo listado\n",
    "os.listdir(path)[0]"
   ]
  },
  {
   "cell_type": "code",
   "execution_count": 49,
   "id": "6067deef-0c87-4613-a96d-0f0ef69bb8ef",
   "metadata": {},
   "outputs": [
    {
     "data": {
      "text/plain": [
       "'C:\\\\Users\\\\HP\\\\Documents\\\\Gabriel.py\\\\ENS5173/.git'"
      ]
     },
     "execution_count": 49,
     "metadata": {},
     "output_type": "execute_result"
    }
   ],
   "source": [
    "# concatenando caminhos\n",
    "path+\"/\"+os.listdir(path)[0]"
   ]
  },
  {
   "cell_type": "code",
   "execution_count": 50,
   "id": "3179c474-9949-4f6f-a966-95116cfef502",
   "metadata": {},
   "outputs": [
    {
     "data": {
      "text/plain": [
       "['COMMIT_EDITMSG',\n",
       " 'config',\n",
       " 'description',\n",
       " 'FETCH_HEAD',\n",
       " 'HEAD',\n",
       " 'hooks',\n",
       " 'index',\n",
       " 'info',\n",
       " 'logs',\n",
       " 'objects',\n",
       " 'packed-refs',\n",
       " 'refs']"
      ]
     },
     "execution_count": 50,
     "metadata": {},
     "output_type": "execute_result"
    }
   ],
   "source": [
    "# listando caminho concatenado\n",
    "os.listdir(path+\"/\"+os.listdir(path)[0])\n"
   ]
  },
  {
   "cell_type": "code",
   "execution_count": 51,
   "id": "31b0d1e0-662c-4c16-bc16-10be639ef151",
   "metadata": {},
   "outputs": [
    {
     "data": {
      "text/plain": [
       "'C:\\\\Users\\\\HP\\\\Documents\\\\Gabriel.py\\\\ENS5173\\\\venv\\\\Scripts'"
      ]
     },
     "execution_count": 51,
     "metadata": {},
     "output_type": "execute_result"
    }
   ],
   "source": [
    "#Diretório que estou trabalhando\n",
    "os.getcwd()"
   ]
  },
  {
   "cell_type": "code",
   "execution_count": 52,
   "id": "84d032df-ae68-41ab-ae09-0eef1d126035",
   "metadata": {},
   "outputs": [],
   "source": [
    "# Mudando o diretório de caminho\n",
    "os.chdir('C:\\\\Users\\\\HP\\\\Documents')"
   ]
  },
  {
   "cell_type": "code",
   "execution_count": 53,
   "id": "a3532805-3084-4d47-8b36-48824c781e7c",
   "metadata": {},
   "outputs": [
    {
     "data": {
      "text/plain": [
       "'C:\\\\Users\\\\HP\\\\Documents'"
      ]
     },
     "execution_count": 53,
     "metadata": {},
     "output_type": "execute_result"
    }
   ],
   "source": [
    "os.getcwd()"
   ]
  },
  {
   "cell_type": "code",
   "execution_count": 55,
   "id": "b837d744-aefe-4f94-b9de-819de594a0f0",
   "metadata": {},
   "outputs": [
    {
     "name": "stdout",
     "output_type": "stream",
     "text": [
      "criando diretório C:\\Users\\HP\\Documents/test\n"
     ]
    }
   ],
   "source": [
    "#Criando novo diretório\n",
    "new_path = os.getcwd()+'/test'\n",
    "if os.path.isdir(new_path):\n",
    "    print('diretório já existe')\n",
    "else:\n",
    "    print('criando diretório '+new_path)\n",
    "    os.mkdir(new_path)"
   ]
  },
  {
   "cell_type": "code",
   "execution_count": 61,
   "id": "012e4b15-648e-420e-a5c1-5866f9c38df0",
   "metadata": {},
   "outputs": [
    {
     "name": "stdout",
     "output_type": "stream",
     "text": [
      "diretório já existe\n"
     ]
    }
   ],
   "source": [
    "#criando novo diretório\n",
    "new_path = os.getcwd()+'/test2'\n",
    "if os.path.isdir(new_path):\n",
    "    print('diretório já existe')\n",
    "    #criando um arquivo texto\n",
    "    with open(new_path+'/copy.txt','w') as file:\n",
    "        file.write(\"your text goes here\")\n",
    "else:\n",
    "    print('criando diretório '+new_path)\n",
    "    os.mkdir(new_path)\n",
    "    with open(new_path+'/copy.txt','w') as file:\n",
    "        file.write('your text goes here')\n",
    "         \n",
    "    "
   ]
  },
  {
   "cell_type": "markdown",
   "id": "1a9b7801-63e6-4f5a-bd8e-ed3bf94e2324",
   "metadata": {},
   "source": [
    "#### Numpy arrays e Pandas Dataframes"
   ]
  },
  {
   "cell_type": "code",
   "execution_count": 62,
   "id": "72dec402-29c2-490f-996b-749c0e76e491",
   "metadata": {},
   "outputs": [
    {
     "data": {
      "text/plain": [
       "numpy.ndarray"
      ]
     },
     "execution_count": 62,
     "metadata": {},
     "output_type": "execute_result"
    }
   ],
   "source": [
    "import numpy as np\n",
    "#criando uma variável numpy\n",
    "n=np.array(0)\n",
    "type(n)"
   ]
  },
  {
   "cell_type": "code",
   "execution_count": 63,
   "id": "eaec1b92-9a58-4238-b363-90c7292684d5",
   "metadata": {},
   "outputs": [
    {
     "name": "stdout",
     "output_type": "stream",
     "text": [
      "[ 1  2  3 10 20 55]\n"
     ]
    }
   ],
   "source": [
    "#criando uma variável numpy a partir de uma lista\n",
    "mythirdlist=[1,2,3,10,20,55]\n",
    "n = np.array(mythirdlist)\n",
    "print(n)"
   ]
  },
  {
   "cell_type": "code",
   "execution_count": 64,
   "id": "1796aa32-8161-44f0-adf9-75cf0ed6c4a5",
   "metadata": {},
   "outputs": [
    {
     "name": "stdout",
     "output_type": "stream",
     "text": [
      "[[0.39636941 0.53200493 0.07985733 0.99502837 0.6928126  0.06112197\n",
      "  0.97155359 0.04125765 0.83492222 0.69869948]\n",
      " [0.28653817 0.44527192 0.74407322 0.33577849 0.2401191  0.59021414\n",
      "  0.14351504 0.81085979 0.58024986 0.40232625]\n",
      " [0.29394872 0.7333551  0.71626853 0.83029194 0.67606941 0.65675545\n",
      "  0.25336811 0.77752871 0.44650095 0.7511076 ]\n",
      " [0.98398485 0.78745104 0.92997716 0.18888204 0.11269435 0.79153477\n",
      "  0.61845125 0.23094779 0.30332268 0.49811784]\n",
      " [0.00487401 0.64858404 0.14439012 0.60020709 0.26360593 0.47397926\n",
      "  0.25822928 0.11663368 0.86555405 0.13720366]\n",
      " [0.66039407 0.90403348 0.01359413 0.3318233  0.73585337 0.293174\n",
      "  0.04621798 0.97736525 0.14871961 0.4872754 ]\n",
      " [0.43894035 0.38708235 0.96227636 0.45792659 0.14148057 0.55884025\n",
      "  0.66718534 0.45882621 0.8796958  0.18994969]\n",
      " [0.91009673 0.96858897 0.80380184 0.65971229 0.51217939 0.30291759\n",
      "  0.41180483 0.88543776 0.23628521 0.21047638]\n",
      " [0.67769031 0.23662433 0.02264101 0.68914398 0.68450279 0.57336227\n",
      "  0.95644891 0.39836253 0.42671632 0.43281018]\n",
      " [0.30377887 0.00124698 0.30006483 0.61446928 0.78444986 0.92921334\n",
      "  0.79041658 0.66778715 0.20774748 0.33873742]]\n",
      "(10, 10)\n"
     ]
    }
   ],
   "source": [
    "#criando matriz 10x10 de números aleatórios entre 0 e 1\n",
    "n=np.random.rand(10,10)\n",
    "print(n)\n",
    "#dimensões da matriz\n",
    "print(n.shape)"
   ]
  },
  {
   "cell_type": "code",
   "execution_count": 65,
   "id": "7fe50551-79c0-4510-84fe-55e6d0500468",
   "metadata": {},
   "outputs": [
    {
     "data": {
      "text/plain": [
       "array([0.39636941, 0.28653817, 0.29394872, 0.98398485, 0.00487401,\n",
       "       0.66039407, 0.43894035, 0.91009673, 0.67769031, 0.30377887])"
      ]
     },
     "execution_count": 65,
     "metadata": {},
     "output_type": "execute_result"
    }
   ],
   "source": [
    "#acessando valores da matriz\n",
    "n[:,0]"
   ]
  },
  {
   "cell_type": "code",
   "execution_count": 66,
   "id": "40cb0b2d-3701-4f34-8a39-559a482da24f",
   "metadata": {},
   "outputs": [
    {
     "data": {
      "text/plain": [
       "array([0.39636941, 0.53200493, 0.07985733, 0.99502837, 0.6928126 ,\n",
       "       0.06112197, 0.97155359, 0.04125765, 0.83492222, 0.69869948])"
      ]
     },
     "execution_count": 66,
     "metadata": {},
     "output_type": "execute_result"
    }
   ],
   "source": [
    "n[0,:]"
   ]
  },
  {
   "cell_type": "code",
   "execution_count": 67,
   "id": "c34fb105-385f-4921-aee9-fe9350bf79a5",
   "metadata": {},
   "outputs": [
    {
     "data": {
      "text/plain": [
       "array([[0.53200493, 0.07985733, 0.99502837, 0.6928126 ],\n",
       "       [0.44527192, 0.74407322, 0.33577849, 0.2401191 ],\n",
       "       [0.7333551 , 0.71626853, 0.83029194, 0.67606941],\n",
       "       [0.78745104, 0.92997716, 0.18888204, 0.11269435],\n",
       "       [0.64858404, 0.14439012, 0.60020709, 0.26360593],\n",
       "       [0.90403348, 0.01359413, 0.3318233 , 0.73585337],\n",
       "       [0.38708235, 0.96227636, 0.45792659, 0.14148057],\n",
       "       [0.96858897, 0.80380184, 0.65971229, 0.51217939],\n",
       "       [0.23662433, 0.02264101, 0.68914398, 0.68450279],\n",
       "       [0.00124698, 0.30006483, 0.61446928, 0.78444986]])"
      ]
     },
     "execution_count": 67,
     "metadata": {},
     "output_type": "execute_result"
    }
   ],
   "source": [
    "n[:,1:5]"
   ]
  },
  {
   "cell_type": "code",
   "execution_count": 68,
   "id": "8b09e72f-8795-4f8e-98aa-7bf3f67e9750",
   "metadata": {},
   "outputs": [
    {
     "data": {
      "text/plain": [
       "array([0.53200493, 0.07985733, 0.99502837, 0.6928126 ])"
      ]
     },
     "execution_count": 68,
     "metadata": {},
     "output_type": "execute_result"
    }
   ],
   "source": [
    "n[0,1:5]"
   ]
  },
  {
   "cell_type": "code",
   "execution_count": 69,
   "id": "55052c9f-0eec-413a-abcf-5f45592f61f5",
   "metadata": {},
   "outputs": [
    {
     "data": {
      "text/plain": [
       "0.6986994800216958"
      ]
     },
     "execution_count": 69,
     "metadata": {},
     "output_type": "execute_result"
    }
   ],
   "source": [
    "n[0,-1]"
   ]
  },
  {
   "cell_type": "code",
   "execution_count": 70,
   "id": "607b9bc4-7b79-4034-9e18-433a0029e87f",
   "metadata": {},
   "outputs": [
    {
     "data": {
      "text/plain": [
       "array([0.6928126 , 0.06112197, 0.97155359, 0.04125765, 0.83492222])"
      ]
     },
     "execution_count": 70,
     "metadata": {},
     "output_type": "execute_result"
    }
   ],
   "source": [
    "n[0,4:-1]"
   ]
  },
  {
   "cell_type": "code",
   "execution_count": 71,
   "id": "144e7471-62af-4fd6-9494-27b1de8e84f3",
   "metadata": {},
   "outputs": [
    {
     "data": {
      "text/plain": [
       "array([0.6928126 , 0.06112197, 0.97155359, 0.04125765, 0.83492222,\n",
       "       0.69869948])"
      ]
     },
     "execution_count": 71,
     "metadata": {},
     "output_type": "execute_result"
    }
   ],
   "source": [
    "n[0,4:]"
   ]
  },
  {
   "cell_type": "code",
   "execution_count": 72,
   "id": "485fc956-7e99-4348-90d0-d9be18c843b0",
   "metadata": {},
   "outputs": [
    {
     "name": "stdout",
     "output_type": "stream",
     "text": [
      "[[ 0.68402925  0.97833538 -0.91807573  1.60445388  1.24244217 -1.18544602\n",
      "   1.58057907 -1.5784808   1.4290212   1.25090335]\n",
      " [ 0.35955438  0.80036778  1.31382208  0.51813433  0.1828177   1.08216805\n",
      "  -0.33187756  1.39977779  1.06514144  0.69894597]\n",
      " [ 0.38508797  1.29931266  1.27573777  1.42346001  1.21797838  1.18899436\n",
      "   0.23652604  1.3578032   0.80312417  1.32323155]\n",
      " [ 1.59329314  1.37048383  1.53684266 -0.05719465 -0.57363807  1.37565644\n",
      "   1.12890101  0.14387428  0.41647982  0.91251932]\n",
      " [-3.71440053  1.17647421 -0.32579856  1.09895737  0.27613795  0.86284621\n",
      "   0.2555305  -0.5392793   1.46505246 -0.376851  ]\n",
      " [ 1.19451937  1.50854903 -2.68867959  0.50628522  1.30271351  0.38244893\n",
      "  -1.46494842  1.58654307 -0.29625463  0.8905121 ]\n",
      " [ 0.78604616  0.66032011  1.57098432  0.82839152 -0.34615498  1.02754629\n",
      "   1.20475052  0.83035415  1.4812588  -0.05155812]\n",
      " [ 1.51523353  1.57752298  1.3910354   1.19348645  0.94035757  0.41514344\n",
      "   0.72223217  1.4877648   0.16672223  0.05105607]\n",
      " [ 1.22037305  0.1681564  -2.17855456  1.23713285  1.23037535  1.05320038\n",
      "   1.56491001  0.6890451   0.75780207  0.77198188]\n",
      " [ 0.41798267 -5.07759161  0.4056812   1.12244158  1.36666529  1.53602099\n",
      "   1.37424276  1.20565211  0.03800591  0.52690788]]\n"
     ]
    }
   ],
   "source": [
    "an = np.log(n*5)\n",
    "print(an)"
   ]
  },
  {
   "cell_type": "code",
   "execution_count": null,
   "id": "c1fd029f-e603-4d7f-a8ad-a0cb715f368e",
   "metadata": {},
   "outputs": [],
   "source": []
  }
 ],
 "metadata": {
  "kernelspec": {
   "display_name": "Python 3 (ipykernel)",
   "language": "python",
   "name": "python3"
  },
  "language_info": {
   "codemirror_mode": {
    "name": "ipython",
    "version": 3
   },
   "file_extension": ".py",
   "mimetype": "text/x-python",
   "name": "python",
   "nbconvert_exporter": "python",
   "pygments_lexer": "ipython3",
   "version": "3.10.5"
  }
 },
 "nbformat": 4,
 "nbformat_minor": 5
}
